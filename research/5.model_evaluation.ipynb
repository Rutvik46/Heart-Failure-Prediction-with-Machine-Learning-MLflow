{
 "cells": [
  {
   "cell_type": "code",
   "execution_count": 1,
   "id": "f745d340",
   "metadata": {},
   "outputs": [],
   "source": [
    "import os"
   ]
  },
  {
   "cell_type": "code",
   "execution_count": 2,
   "id": "1b812898",
   "metadata": {},
   "outputs": [
    {
     "data": {
      "text/plain": [
       "'a:\\\\mlflow\\\\Heart-Failure-Prediction-with-Machine-Learning-MLflow\\\\research'"
      ]
     },
     "execution_count": 2,
     "metadata": {},
     "output_type": "execute_result"
    }
   ],
   "source": [
    "%pwd"
   ]
  },
  {
   "cell_type": "code",
   "execution_count": 3,
   "id": "a951a6d8",
   "metadata": {},
   "outputs": [
    {
     "data": {
      "text/plain": [
       "['1.data_ingestion.ipynb',\n",
       " '2.data_validation.ipynb',\n",
       " '3.data_transformation.ipynb',\n",
       " '4.model_trainer.ipynb',\n",
       " '5.model_evaluation.ipynb',\n",
       " 'EDA_Heart_Disease.ipynb',\n",
       " 'logs',\n",
       " 'trials.ipynb']"
      ]
     },
     "execution_count": 3,
     "metadata": {},
     "output_type": "execute_result"
    }
   ],
   "source": [
    "os.listdir(os.getcwd())"
   ]
  },
  {
   "cell_type": "code",
   "execution_count": 4,
   "id": "8ffce21b",
   "metadata": {},
   "outputs": [],
   "source": [
    "os.chdir(\"../\")"
   ]
  },
  {
   "cell_type": "code",
   "execution_count": 5,
   "id": "139f898a",
   "metadata": {},
   "outputs": [
    {
     "data": {
      "text/plain": [
       "'a:\\\\mlflow\\\\Heart-Failure-Prediction-with-Machine-Learning-MLflow'"
      ]
     },
     "execution_count": 5,
     "metadata": {},
     "output_type": "execute_result"
    }
   ],
   "source": [
    "%pwd"
   ]
  },
  {
   "cell_type": "code",
   "execution_count": null,
   "id": "abeb7da9",
   "metadata": {},
   "outputs": [],
   "source": [
    "os.environ[\"MLFLOW_TRACKING_URI\"]=\"https://dagshub.com/Rutvik46/Heart-Failure-Prediction-with-Machine-Learning-MLflow.mlflow\"\n",
    "os.environ[\"MLFLOW_TRACKING_USERNAME\"]=\"Rutvik46\" \n",
    "os.environ[\"MLFLOW_TRACKING_PASSWORD\"]=\"48e78d0ab25ab1d7ab3540f1bf7a0317c5efb9d0\""
   ]
  },
  {
   "cell_type": "code",
   "execution_count": 7,
   "id": "db9a19c4",
   "metadata": {},
   "outputs": [],
   "source": [
    "from dataclasses import dataclass\n",
    "from pathlib import Path\n",
    "\n",
    "@dataclass(frozen=True)\n",
    "class ModelEvaluationConfig:\n",
    "    root_dir:str\n",
    "    test_data_path:Path\n",
    "    model_paths:dict\n",
    "    all_params:dict\n",
    "    metrics_file_paths: dict\n",
    "    target_column:str\n",
    "    mlflow_url:str"
   ]
  },
  {
   "cell_type": "code",
   "execution_count": 8,
   "id": "1e9221b5",
   "metadata": {},
   "outputs": [],
   "source": [
    "from mlProject.constants import *\n",
    "from mlProject.utils.common import read_yaml, create_directories"
   ]
  },
  {
   "cell_type": "code",
   "execution_count": 9,
   "id": "4b778c8d",
   "metadata": {},
   "outputs": [],
   "source": [
    "class ConfigurationManager:\n",
    "    def __init__(self, config_filepath=CONFIG_FILE_PATH, params_filepath=PARAMS_FILE_PATH,schema_filepath=SCHEMA_FILE_PATH):\n",
    "        print(f\"Config file path: {config_filepath}\")\n",
    "        self.config = read_yaml(config_filepath)\n",
    "        self.params = read_yaml(params_filepath)\n",
    "        self.schema = read_yaml(schema_filepath)\n",
    "\n",
    "        create_directories([self.config.model_evaluation.root_dir])\n",
    "\n",
    "    def get_model_evaluation_config(self) -> ModelEvaluationConfig:\n",
    "        config = self.config.model_evaluation\n",
    "        param = self.params.Models\n",
    "        schema = self.schema.TARGET_COLUMN\n",
    "\n",
    "        model_evaluation_config = ModelEvaluationConfig(\n",
    "            root_dir=config.root_dir,\n",
    "            test_data_path=Path(config.test_data_path),\n",
    "            model_paths=config.model_paths,\n",
    "            all_params=param,\n",
    "            metrics_file_paths=config.metrics_file_paths,\n",
    "            target_column=schema.name,\n",
    "            mlflow_url=\"https://dagshub.com/Rutvik46/Heart-Failure-Prediction-with-Machine-Learning-MLflow.mlflow\"\n",
    "        )\n",
    "\n",
    "        return model_evaluation_config"
   ]
  },
  {
   "cell_type": "code",
   "execution_count": 10,
   "id": "0389a84c",
   "metadata": {},
   "outputs": [],
   "source": [
    "import pandas as pd\n",
    "from mlProject import logger\n",
    "from sklearn.metrics import accuracy_score, roc_auc_score, f1_score, precision_score, recall_score\n",
    "from urllib.parse import urlparse\n",
    "from sklearn.preprocessing import StandardScaler\n",
    "import mlflow\n",
    "import mlflow.sklearn\n",
    "import numpy as np\n",
    "import joblib\n",
    "from mlProject.utils.common import save_json \n",
    "import time"
   ]
  },
  {
   "cell_type": "code",
   "execution_count": 11,
   "id": "fe5ef373",
   "metadata": {},
   "outputs": [],
   "source": [
    "class ModelEvaluation:\n",
    "    def __init__(self, config: ModelEvaluationConfig):\n",
    "        self.config = config\n",
    "\n",
    "    def evaluation_metrics(self,actual,pred):\n",
    "        Accuracy = accuracy_score(actual,pred)\n",
    "        F1_Score = f1_score(actual,pred)\n",
    "        Precision_Score = precision_score(actual,pred)\n",
    "        Recall_Score = recall_score(actual,pred)\n",
    "        AUC_Score = roc_auc_score(actual, pred)\n",
    "        \n",
    "        return Accuracy, F1_Score, Precision_Score, Recall_Score, AUC_Score\n",
    "\n",
    "    def log_into_mlflow(self):\n",
    "\n",
    "        # Load models\n",
    "        Support_Vector_Machine = joblib.load(Path(self.config.model_paths[0]))\n",
    "        K_Nearest_Neighbours = joblib.load(Path(self.config.model_paths[1]))\n",
    "        AdaBoost = joblib.load(Path(self.config.model_paths[2]))\n",
    "\n",
    "        models = {\"Support_Vector_Machine\":Support_Vector_Machine,\"K_Nearest_Neighbours\":K_Nearest_Neighbours, \"AdaBoost\":AdaBoost}\n",
    "\n",
    "        # Load test data\n",
    "        test_data = pd.read_csv(self.config.test_data_path)\n",
    "        X_test = test_data.drop([self.config.target_column], axis=1)\n",
    "        Y_test = test_data[self.config.target_column]\n",
    "\n",
    "        mlflow.set_registry_uri(self.config.mlflow_url)\n",
    "        tracking_url_type_store = urlparse(mlflow.get_tracking_uri()).scheme\n",
    "\n",
    "        # Set experiment name\n",
    "        experiment_name = \"Heart-Failure-Prediction\"\n",
    "        experiment = mlflow.get_experiment_by_name(experiment_name)\n",
    "        experiment_id = experiment.experiment_id if experiment else mlflow.create_experiment(experiment_name)\n",
    "        print(f\"Experiment ID: {experiment_id}\")\n",
    "\n",
    "        for index, model_name in enumerate(models.keys()):\n",
    "            with mlflow.start_run(experiment_id=experiment_id) as run:\n",
    "\n",
    "                predicted_qualities = models[model_name].predict(X_test)\n",
    "        \n",
    "                # Evaluation metrcis\n",
    "                (Accuracy, F1_Score, Precision_Score, Recall_Score, AUC_Score) = self.evaluation_metrics(Y_test, predicted_qualities)\n",
    "                \n",
    "                # Saving metrics as local\n",
    "                scores = {\"Accuracy\":Accuracy, \"F1_Score\":F1_Score, \"Precision_Score\":Precision_Score, \"Recall_Score\":Recall_Score, \"AUC_Score\":AUC_Score}\n",
    "                save_json(path=Path(self.config.metrics_file_paths[index]), data=scores)\n",
    "\n",
    "                mlflow.log_params(self.config.all_params[model_name])\n",
    "                mlflow.log_metric(\"Accuracy\",Accuracy)\n",
    "                mlflow.log_metric(\"F1_Score\",F1_Score)\n",
    "                mlflow.log_metric(\"Precision_Score\",Precision_Score)\n",
    "                mlflow.log_metric(\"Recall_Score\",Recall_Score)\n",
    "                mlflow.log_metric(\"AUC_Score\",AUC_Score)\n",
    "\n",
    "                # Log JSON file as artifact\n",
    "                mlflow.log_artifact(self.config.metrics_file_paths[index], artifact_path=\"model_evaluation\")\n",
    "\n",
    "                # Model registry does not work with file store\n",
    "                if tracking_url_type_store != \"file\":\n",
    "\n",
    "                    # Register the model\n",
    "                    # There are other ways to use the Model Registry, which depends on the use case,\n",
    "                    # please refer to the doc for more information:\n",
    "                    # https://mlflow.org/docs/latest/model-registry.html#api-workflow\n",
    "                    mlflow.sklearn.log_model(models[model_name], \"model\", registered_model_name=model_name)\n",
    "                else:\n",
    "                    mlflow.sklearn.log_model(models[model_name], \"model\")"
   ]
  },
  {
   "cell_type": "code",
   "execution_count": 12,
   "id": "79932a98",
   "metadata": {},
   "outputs": [
    {
     "name": "stdout",
     "output_type": "stream",
     "text": [
      "Config file path: config\\config.yaml\n",
      "[2025-07-25 21:59:07,407 : INFO: yaml file: config\\config.yaml loaded successfully]\n",
      "[2025-07-25 21:59:07,410 : INFO: yaml file: params.yaml loaded successfully]\n",
      "[2025-07-25 21:59:07,414 : INFO: yaml file: schema.yaml loaded successfully]\n",
      "[2025-07-25 21:59:07,415 : INFO: created directory at: artifacts/model_evaluation]\n",
      "[2025-07-25 21:59:07,808 : ERROR: API request to endpoint /api/2.0/mlflow/experiments/get-by-name failed with error code 401 != 200. Response body: '=============== ATTENTION! ===============\n",
      "\n",
      "To use authentication, you must first: \n",
      "    Get your default access token from: https://dagshub.com/user/settings/tokens\n",
      "    OR \n",
      "    Set a password: https://dagshub.com/user/settings/password \n",
      "==========================================']\n",
      "Traceback (most recent call last):\n",
      "  File \"C:\\Users\\rutvi\\AppData\\Local\\Temp\\ipykernel_5872\\2980524165.py\", line 5, in <module>\n",
      "    model_evaluation.log_into_mlflow()\n",
      "  File \"C:\\Users\\rutvi\\AppData\\Local\\Temp\\ipykernel_5872\\1968184344.py\", line 33, in log_into_mlflow\n",
      "    experiment = mlflow.get_experiment_by_name(experiment_name)\n",
      "                 ^^^^^^^^^^^^^^^^^^^^^^^^^^^^^^^^^^^^^^^^^^^^^^\n",
      "  File \"c:\\Users\\rutvi\\anaconda3\\envs\\mlProject\\Lib\\site-packages\\mlflow\\tracking\\fluent.py\", line 1056, in get_experiment_by_name\n",
      "    return MlflowClient().get_experiment_by_name(name)\n",
      "           ^^^^^^^^^^^^^^^^^^^^^^^^^^^^^^^^^^^^^^^^^^^\n",
      "  File \"c:\\Users\\rutvi\\anaconda3\\envs\\mlProject\\Lib\\site-packages\\mlflow\\tracking\\client.py\", line 456, in get_experiment_by_name\n",
      "    return self._tracking_client.get_experiment_by_name(name)\n",
      "           ^^^^^^^^^^^^^^^^^^^^^^^^^^^^^^^^^^^^^^^^^^^^^^^^^^\n",
      "  File \"c:\\Users\\rutvi\\anaconda3\\envs\\mlProject\\Lib\\site-packages\\mlflow\\tracking\\_tracking_service\\client.py\", line 220, in get_experiment_by_name\n",
      "    return self.store.get_experiment_by_name(name)\n",
      "           ^^^^^^^^^^^^^^^^^^^^^^^^^^^^^^^^^^^^^^^\n",
      "  File \"c:\\Users\\rutvi\\anaconda3\\envs\\mlProject\\Lib\\site-packages\\mlflow\\store\\tracking\\rest_store.py\", line 304, in get_experiment_by_name\n",
      "    response_proto = self._call_endpoint(GetExperimentByName, req_body)\n",
      "                     ^^^^^^^^^^^^^^^^^^^^^^^^^^^^^^^^^^^^^^^^^^^^^^^^^^\n",
      "  File \"c:\\Users\\rutvi\\anaconda3\\envs\\mlProject\\Lib\\site-packages\\mlflow\\store\\tracking\\rest_store.py\", line 56, in _call_endpoint\n",
      "    return call_endpoint(self.get_host_creds(), endpoint, method, json_body, response_proto)\n",
      "           ^^^^^^^^^^^^^^^^^^^^^^^^^^^^^^^^^^^^^^^^^^^^^^^^^^^^^^^^^^^^^^^^^^^^^^^^^^^^^^^^^\n",
      "  File \"c:\\Users\\rutvi\\anaconda3\\envs\\mlProject\\Lib\\site-packages\\mlflow\\utils\\rest_utils.py\", line 281, in call_endpoint\n",
      "    response = verify_rest_response(response, endpoint)\n",
      "               ^^^^^^^^^^^^^^^^^^^^^^^^^^^^^^^^^^^^^^^^\n",
      "  File \"c:\\Users\\rutvi\\anaconda3\\envs\\mlProject\\Lib\\site-packages\\mlflow\\utils\\rest_utils.py\", line 213, in verify_rest_response\n",
      "    raise MlflowException(\n",
      "mlflow.exceptions.MlflowException: API request to endpoint /api/2.0/mlflow/experiments/get-by-name failed with error code 401 != 200. Response body: '=============== ATTENTION! ===============\n",
      "\n",
      "To use authentication, you must first: \n",
      "    Get your default access token from: https://dagshub.com/user/settings/tokens\n",
      "    OR \n",
      "    Set a password: https://dagshub.com/user/settings/password \n",
      "=========================================='\n"
     ]
    },
    {
     "ename": "MlflowException",
     "evalue": "API request to endpoint /api/2.0/mlflow/experiments/get-by-name failed with error code 401 != 200. Response body: '=============== ATTENTION! ===============\n\nTo use authentication, you must first: \n    Get your default access token from: https://dagshub.com/user/settings/tokens\n    OR \n    Set a password: https://dagshub.com/user/settings/password \n=========================================='",
     "output_type": "error",
     "traceback": [
      "\u001b[31m---------------------------------------------------------------------------\u001b[39m",
      "\u001b[31mMlflowException\u001b[39m                           Traceback (most recent call last)",
      "\u001b[36mCell\u001b[39m\u001b[36m \u001b[39m\u001b[32mIn[12]\u001b[39m\u001b[32m, line 9\u001b[39m\n\u001b[32m      7\u001b[39m \u001b[38;5;28;01mexcept\u001b[39;00m \u001b[38;5;167;01mException\u001b[39;00m \u001b[38;5;28;01mas\u001b[39;00m e:\n\u001b[32m      8\u001b[39m     logger.exception(e)\n\u001b[32m----> \u001b[39m\u001b[32m9\u001b[39m     \u001b[38;5;28;01mraise\u001b[39;00m e\n",
      "\u001b[36mCell\u001b[39m\u001b[36m \u001b[39m\u001b[32mIn[12]\u001b[39m\u001b[32m, line 5\u001b[39m\n\u001b[32m      3\u001b[39m     model_evaluation_config = config.get_model_evaluation_config()\n\u001b[32m      4\u001b[39m     model_evaluation = ModelEvaluation(config=model_evaluation_config)\n\u001b[32m----> \u001b[39m\u001b[32m5\u001b[39m     \u001b[43mmodel_evaluation\u001b[49m\u001b[43m.\u001b[49m\u001b[43mlog_into_mlflow\u001b[49m\u001b[43m(\u001b[49m\u001b[43m)\u001b[49m\n\u001b[32m      7\u001b[39m \u001b[38;5;28;01mexcept\u001b[39;00m \u001b[38;5;167;01mException\u001b[39;00m \u001b[38;5;28;01mas\u001b[39;00m e:\n\u001b[32m      8\u001b[39m     logger.exception(e)\n",
      "\u001b[36mCell\u001b[39m\u001b[36m \u001b[39m\u001b[32mIn[11]\u001b[39m\u001b[32m, line 33\u001b[39m, in \u001b[36mModelEvaluation.log_into_mlflow\u001b[39m\u001b[34m(self)\u001b[39m\n\u001b[32m     31\u001b[39m \u001b[38;5;66;03m# Set experiment name\u001b[39;00m\n\u001b[32m     32\u001b[39m experiment_name = \u001b[33m\"\u001b[39m\u001b[33mHeart-Failure-Prediction\u001b[39m\u001b[33m\"\u001b[39m\n\u001b[32m---> \u001b[39m\u001b[32m33\u001b[39m experiment = \u001b[43mmlflow\u001b[49m\u001b[43m.\u001b[49m\u001b[43mget_experiment_by_name\u001b[49m\u001b[43m(\u001b[49m\u001b[43mexperiment_name\u001b[49m\u001b[43m)\u001b[49m\n\u001b[32m     34\u001b[39m experiment_id = experiment.experiment_id \u001b[38;5;28;01mif\u001b[39;00m experiment \u001b[38;5;28;01melse\u001b[39;00m mlflow.create_experiment(experiment_name)\n\u001b[32m     35\u001b[39m \u001b[38;5;28mprint\u001b[39m(\u001b[33mf\u001b[39m\u001b[33m\"\u001b[39m\u001b[33mExperiment ID: \u001b[39m\u001b[38;5;132;01m{\u001b[39;00mexperiment_id\u001b[38;5;132;01m}\u001b[39;00m\u001b[33m\"\u001b[39m)\n",
      "\u001b[36mFile \u001b[39m\u001b[32mc:\\Users\\rutvi\\anaconda3\\envs\\mlProject\\Lib\\site-packages\\mlflow\\tracking\\fluent.py:1056\u001b[39m, in \u001b[36mget_experiment_by_name\u001b[39m\u001b[34m(name)\u001b[39m\n\u001b[32m   1026\u001b[39m \u001b[38;5;28;01mdef\u001b[39;00m\u001b[38;5;250m \u001b[39m\u001b[34mget_experiment_by_name\u001b[39m(name: \u001b[38;5;28mstr\u001b[39m) -> Optional[Experiment]:\n\u001b[32m   1027\u001b[39m \u001b[38;5;250m    \u001b[39m\u001b[33;03m\"\"\"\u001b[39;00m\n\u001b[32m   1028\u001b[39m \u001b[33;03m    Retrieve an experiment by experiment name from the backend store\u001b[39;00m\n\u001b[32m   1029\u001b[39m \n\u001b[32m   (...)\u001b[39m\u001b[32m   1054\u001b[39m \u001b[33;03m        Creation timestamp: 1662004217511\u001b[39;00m\n\u001b[32m   1055\u001b[39m \u001b[33;03m    \"\"\"\u001b[39;00m\n\u001b[32m-> \u001b[39m\u001b[32m1056\u001b[39m     \u001b[38;5;28;01mreturn\u001b[39;00m \u001b[43mMlflowClient\u001b[49m\u001b[43m(\u001b[49m\u001b[43m)\u001b[49m\u001b[43m.\u001b[49m\u001b[43mget_experiment_by_name\u001b[49m\u001b[43m(\u001b[49m\u001b[43mname\u001b[49m\u001b[43m)\u001b[49m\n",
      "\u001b[36mFile \u001b[39m\u001b[32mc:\\Users\\rutvi\\anaconda3\\envs\\mlProject\\Lib\\site-packages\\mlflow\\tracking\\client.py:456\u001b[39m, in \u001b[36mMlflowClient.get_experiment_by_name\u001b[39m\u001b[34m(self, name)\u001b[39m\n\u001b[32m    425\u001b[39m \u001b[38;5;28;01mdef\u001b[39;00m\u001b[38;5;250m \u001b[39m\u001b[34mget_experiment_by_name\u001b[39m(\u001b[38;5;28mself\u001b[39m, name: \u001b[38;5;28mstr\u001b[39m) -> Optional[Experiment]:\n\u001b[32m    426\u001b[39m \u001b[38;5;250m    \u001b[39m\u001b[33;03m\"\"\"\u001b[39;00m\n\u001b[32m    427\u001b[39m \u001b[33;03m    Retrieve an experiment by experiment name from the backend store\u001b[39;00m\n\u001b[32m    428\u001b[39m \n\u001b[32m   (...)\u001b[39m\u001b[32m    454\u001b[39m \u001b[33;03m        Lifecycle_stage: active\u001b[39;00m\n\u001b[32m    455\u001b[39m \u001b[33;03m    \"\"\"\u001b[39;00m\n\u001b[32m--> \u001b[39m\u001b[32m456\u001b[39m     \u001b[38;5;28;01mreturn\u001b[39;00m \u001b[38;5;28;43mself\u001b[39;49m\u001b[43m.\u001b[49m\u001b[43m_tracking_client\u001b[49m\u001b[43m.\u001b[49m\u001b[43mget_experiment_by_name\u001b[49m\u001b[43m(\u001b[49m\u001b[43mname\u001b[49m\u001b[43m)\u001b[49m\n",
      "\u001b[36mFile \u001b[39m\u001b[32mc:\\Users\\rutvi\\anaconda3\\envs\\mlProject\\Lib\\site-packages\\mlflow\\tracking\\_tracking_service\\client.py:220\u001b[39m, in \u001b[36mTrackingServiceClient.get_experiment_by_name\u001b[39m\u001b[34m(self, name)\u001b[39m\n\u001b[32m    215\u001b[39m \u001b[38;5;28;01mdef\u001b[39;00m\u001b[38;5;250m \u001b[39m\u001b[34mget_experiment_by_name\u001b[39m(\u001b[38;5;28mself\u001b[39m, name):\n\u001b[32m    216\u001b[39m \u001b[38;5;250m    \u001b[39m\u001b[33;03m\"\"\"\u001b[39;00m\n\u001b[32m    217\u001b[39m \u001b[33;03m    :param name: The experiment name.\u001b[39;00m\n\u001b[32m    218\u001b[39m \u001b[33;03m    :return: :py:class:`mlflow.entities.Experiment`\u001b[39;00m\n\u001b[32m    219\u001b[39m \u001b[33;03m    \"\"\"\u001b[39;00m\n\u001b[32m--> \u001b[39m\u001b[32m220\u001b[39m     \u001b[38;5;28;01mreturn\u001b[39;00m \u001b[38;5;28;43mself\u001b[39;49m\u001b[43m.\u001b[49m\u001b[43mstore\u001b[49m\u001b[43m.\u001b[49m\u001b[43mget_experiment_by_name\u001b[49m\u001b[43m(\u001b[49m\u001b[43mname\u001b[49m\u001b[43m)\u001b[49m\n",
      "\u001b[36mFile \u001b[39m\u001b[32mc:\\Users\\rutvi\\anaconda3\\envs\\mlProject\\Lib\\site-packages\\mlflow\\store\\tracking\\rest_store.py:304\u001b[39m, in \u001b[36mRestStore.get_experiment_by_name\u001b[39m\u001b[34m(self, experiment_name)\u001b[39m\n\u001b[32m    302\u001b[39m \u001b[38;5;28;01mtry\u001b[39;00m:\n\u001b[32m    303\u001b[39m     req_body = message_to_json(GetExperimentByName(experiment_name=experiment_name))\n\u001b[32m--> \u001b[39m\u001b[32m304\u001b[39m     response_proto = \u001b[38;5;28;43mself\u001b[39;49m\u001b[43m.\u001b[49m\u001b[43m_call_endpoint\u001b[49m\u001b[43m(\u001b[49m\u001b[43mGetExperimentByName\u001b[49m\u001b[43m,\u001b[49m\u001b[43m \u001b[49m\u001b[43mreq_body\u001b[49m\u001b[43m)\u001b[49m\n\u001b[32m    305\u001b[39m     \u001b[38;5;28;01mreturn\u001b[39;00m Experiment.from_proto(response_proto.experiment)\n\u001b[32m    306\u001b[39m \u001b[38;5;28;01mexcept\u001b[39;00m MlflowException \u001b[38;5;28;01mas\u001b[39;00m e:\n",
      "\u001b[36mFile \u001b[39m\u001b[32mc:\\Users\\rutvi\\anaconda3\\envs\\mlProject\\Lib\\site-packages\\mlflow\\store\\tracking\\rest_store.py:56\u001b[39m, in \u001b[36mRestStore._call_endpoint\u001b[39m\u001b[34m(self, api, json_body)\u001b[39m\n\u001b[32m     54\u001b[39m endpoint, method = _METHOD_TO_INFO[api]\n\u001b[32m     55\u001b[39m response_proto = api.Response()\n\u001b[32m---> \u001b[39m\u001b[32m56\u001b[39m \u001b[38;5;28;01mreturn\u001b[39;00m \u001b[43mcall_endpoint\u001b[49m\u001b[43m(\u001b[49m\u001b[38;5;28;43mself\u001b[39;49m\u001b[43m.\u001b[49m\u001b[43mget_host_creds\u001b[49m\u001b[43m(\u001b[49m\u001b[43m)\u001b[49m\u001b[43m,\u001b[49m\u001b[43m \u001b[49m\u001b[43mendpoint\u001b[49m\u001b[43m,\u001b[49m\u001b[43m \u001b[49m\u001b[43mmethod\u001b[49m\u001b[43m,\u001b[49m\u001b[43m \u001b[49m\u001b[43mjson_body\u001b[49m\u001b[43m,\u001b[49m\u001b[43m \u001b[49m\u001b[43mresponse_proto\u001b[49m\u001b[43m)\u001b[49m\n",
      "\u001b[36mFile \u001b[39m\u001b[32mc:\\Users\\rutvi\\anaconda3\\envs\\mlProject\\Lib\\site-packages\\mlflow\\utils\\rest_utils.py:281\u001b[39m, in \u001b[36mcall_endpoint\u001b[39m\u001b[34m(host_creds, endpoint, method, json_body, response_proto)\u001b[39m\n\u001b[32m    277\u001b[39m \u001b[38;5;28;01melse\u001b[39;00m:\n\u001b[32m    278\u001b[39m     response = http_request(\n\u001b[32m    279\u001b[39m         host_creds=host_creds, endpoint=endpoint, method=method, json=json_body\n\u001b[32m    280\u001b[39m     )\n\u001b[32m--> \u001b[39m\u001b[32m281\u001b[39m response = \u001b[43mverify_rest_response\u001b[49m\u001b[43m(\u001b[49m\u001b[43mresponse\u001b[49m\u001b[43m,\u001b[49m\u001b[43m \u001b[49m\u001b[43mendpoint\u001b[49m\u001b[43m)\u001b[49m\n\u001b[32m    282\u001b[39m js_dict = json.loads(response.text)\n\u001b[32m    283\u001b[39m parse_dict(js_dict=js_dict, message=response_proto)\n",
      "\u001b[36mFile \u001b[39m\u001b[32mc:\\Users\\rutvi\\anaconda3\\envs\\mlProject\\Lib\\site-packages\\mlflow\\utils\\rest_utils.py:213\u001b[39m, in \u001b[36mverify_rest_response\u001b[39m\u001b[34m(response, endpoint)\u001b[39m\n\u001b[32m    208\u001b[39m     \u001b[38;5;28;01melse\u001b[39;00m:\n\u001b[32m    209\u001b[39m         base_msg = \u001b[33m\"\u001b[39m\u001b[33mAPI request to endpoint \u001b[39m\u001b[38;5;132;01m{}\u001b[39;00m\u001b[33m failed with error code \u001b[39m\u001b[38;5;132;01m{}\u001b[39;00m\u001b[33m != 200\u001b[39m\u001b[33m\"\u001b[39m.format(\n\u001b[32m    210\u001b[39m             endpoint,\n\u001b[32m    211\u001b[39m             response.status_code,\n\u001b[32m    212\u001b[39m         )\n\u001b[32m--> \u001b[39m\u001b[32m213\u001b[39m         \u001b[38;5;28;01mraise\u001b[39;00m MlflowException(\n\u001b[32m    214\u001b[39m             \u001b[33m\"\u001b[39m\u001b[38;5;132;01m{}\u001b[39;00m\u001b[33m. Response body: \u001b[39m\u001b[33m'\u001b[39m\u001b[38;5;132;01m{}\u001b[39;00m\u001b[33m'\u001b[39m\u001b[33m\"\u001b[39m.format(base_msg, response.text),\n\u001b[32m    215\u001b[39m             error_code=get_error_code(response.status_code),\n\u001b[32m    216\u001b[39m         )\n\u001b[32m    218\u001b[39m \u001b[38;5;66;03m# Skip validation for endpoints (e.g. DBFS file-download API) which may return a non-JSON\u001b[39;00m\n\u001b[32m    219\u001b[39m \u001b[38;5;66;03m# response\u001b[39;00m\n\u001b[32m    220\u001b[39m \u001b[38;5;28;01mif\u001b[39;00m endpoint.startswith(_REST_API_PATH_PREFIX) \u001b[38;5;129;01mand\u001b[39;00m \u001b[38;5;129;01mnot\u001b[39;00m _can_parse_as_json_object(response.text):\n",
      "\u001b[31mMlflowException\u001b[39m: API request to endpoint /api/2.0/mlflow/experiments/get-by-name failed with error code 401 != 200. Response body: '=============== ATTENTION! ===============\n\nTo use authentication, you must first: \n    Get your default access token from: https://dagshub.com/user/settings/tokens\n    OR \n    Set a password: https://dagshub.com/user/settings/password \n=========================================='"
     ]
    }
   ],
   "source": [
    "try:\n",
    "    config = ConfigurationManager()\n",
    "    model_evaluation_config = config.get_model_evaluation_config()\n",
    "    model_evaluation = ModelEvaluation(config=model_evaluation_config)\n",
    "    model_evaluation.log_into_mlflow()\n",
    "\n",
    "except Exception as e:\n",
    "    logger.exception(e)\n",
    "    raise e"
   ]
  }
 ],
 "metadata": {
  "kernelspec": {
   "display_name": "mlProject",
   "language": "python",
   "name": "python3"
  },
  "language_info": {
   "codemirror_mode": {
    "name": "ipython",
    "version": 3
   },
   "file_extension": ".py",
   "mimetype": "text/x-python",
   "name": "python",
   "nbconvert_exporter": "python",
   "pygments_lexer": "ipython3",
   "version": "3.11.13"
  }
 },
 "nbformat": 4,
 "nbformat_minor": 5
}
