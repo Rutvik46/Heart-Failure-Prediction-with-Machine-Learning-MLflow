{
 "cells": [
  {
   "cell_type": "code",
   "execution_count": 1,
   "id": "f745d340",
   "metadata": {},
   "outputs": [],
   "source": [
    "import os"
   ]
  },
  {
   "cell_type": "code",
   "execution_count": 2,
   "id": "1b812898",
   "metadata": {},
   "outputs": [
    {
     "data": {
      "text/plain": [
       "'a:\\\\mlflow\\\\Heart-Failure-Prediction-with-Machine-Learning-MLflow\\\\research'"
      ]
     },
     "execution_count": 2,
     "metadata": {},
     "output_type": "execute_result"
    }
   ],
   "source": [
    "%pwd"
   ]
  },
  {
   "cell_type": "code",
   "execution_count": 3,
   "id": "a951a6d8",
   "metadata": {},
   "outputs": [
    {
     "data": {
      "text/plain": [
       "['1.data_ingestion.ipynb',\n",
       " '2.data_validation.ipynb',\n",
       " '3.data_transformation.ipynb',\n",
       " '4.model_trainer.ipynb',\n",
       " '5.model_evaluation.ipynb',\n",
       " 'logs',\n",
       " 'trials.ipynb']"
      ]
     },
     "execution_count": 3,
     "metadata": {},
     "output_type": "execute_result"
    }
   ],
   "source": [
    "os.listdir(os.getcwd())"
   ]
  },
  {
   "cell_type": "code",
   "execution_count": 4,
   "id": "8ffce21b",
   "metadata": {},
   "outputs": [],
   "source": [
    "os.chdir(\"../\")"
   ]
  },
  {
   "cell_type": "code",
   "execution_count": 5,
   "id": "139f898a",
   "metadata": {},
   "outputs": [
    {
     "data": {
      "text/plain": [
       "'a:\\\\mlflow\\\\Heart-Failure-Prediction-with-Machine-Learning-MLflow'"
      ]
     },
     "execution_count": 5,
     "metadata": {},
     "output_type": "execute_result"
    }
   ],
   "source": [
    "%pwd"
   ]
  },
  {
   "cell_type": "code",
   "execution_count": 6,
   "id": "abeb7da9",
   "metadata": {},
   "outputs": [],
   "source": [
    "os.environ[\"MLFLOW_TRACKING_URI\"]=\"https://dagshub.com/Rutvik46/Heart-Failure-Prediction-with-Machine-Learning-MLflow.mlflow\"\n",
    "os.environ[\"MLFLOW_TRACKING_USERNAME\"]=\"Rutvik46\" \n",
    "os.environ[\"MLFLOW_TRACKING_PASSWORD\"]=\"fdf9d63cdff88d1ed6fd22bc2f3d34a8c0672d1a\""
   ]
  },
  {
   "cell_type": "code",
   "execution_count": 7,
   "id": "db9a19c4",
   "metadata": {},
   "outputs": [],
   "source": [
    "from dataclasses import dataclass\n",
    "from pathlib import Path\n",
    "\n",
    "@dataclass(frozen=True)\n",
    "class ModelEvaluationConfig:\n",
    "    root_dir:str\n",
    "    test_data_path:Path\n",
    "    model_paths:dict\n",
    "    all_params:dict\n",
    "    metrics_file_paths: dict\n",
    "    target_column:str\n",
    "    mlflow_url:str"
   ]
  },
  {
   "cell_type": "code",
   "execution_count": 8,
   "id": "1e9221b5",
   "metadata": {},
   "outputs": [],
   "source": [
    "from mlProject.constants import *\n",
    "from mlProject.utils.common import read_yaml, create_directories"
   ]
  },
  {
   "cell_type": "code",
   "execution_count": 12,
   "id": "4b778c8d",
   "metadata": {},
   "outputs": [],
   "source": [
    "class ConfigurationManager:\n",
    "    def __init__(self, config_filepath=CONFIG_FILE_PATH, params_filepath=PARAMS_FILE_PATH,schema_filepath=SCHEMA_FILE_PATH):\n",
    "        print(f\"Config file path: {config_filepath}\")\n",
    "        self.config = read_yaml(config_filepath)\n",
    "        self.params = read_yaml(params_filepath)\n",
    "        self.schema = read_yaml(schema_filepath)\n",
    "\n",
    "        create_directories([self.config.model_evaluation.root_dir])\n",
    "\n",
    "    def get_model_evaluation_config(self) -> ModelEvaluationConfig:\n",
    "        config = self.config.model_evaluation\n",
    "        param = self.params.Models\n",
    "        schema = self.schema.TARGET_COLUMN\n",
    "\n",
    "        model_evaluation_config = ModelEvaluationConfig(\n",
    "            root_dir=config.root_dir,\n",
    "            test_data_path=Path(config.test_data_path),\n",
    "            model_paths=config.model_paths,\n",
    "            all_params=param,\n",
    "            metrics_file_paths=config.metrics_file_paths,\n",
    "            target_column=schema.name,\n",
    "            mlflow_url=\"https://dagshub.com/Rutvik46/Heart-Failure-Prediction-with-Machine-Learning-MLflow.mlflow\"\n",
    "        )\n",
    "\n",
    "        return model_evaluation_config"
   ]
  },
  {
   "cell_type": "code",
   "execution_count": 9,
   "id": "0389a84c",
   "metadata": {},
   "outputs": [],
   "source": [
    "import pandas as pd\n",
    "from mlProject import logger\n",
    "from sklearn.metrics import accuracy_score, roc_auc_score, f1_score, precision_score, recall_score\n",
    "from urllib.parse import urlparse\n",
    "from sklearn.preprocessing import StandardScaler\n",
    "import mlflow\n",
    "import mlflow.sklearn\n",
    "import numpy as np\n",
    "import joblib\n",
    "from mlProject.utils.common import save_json \n",
    "import time"
   ]
  },
  {
   "cell_type": "code",
   "execution_count": null,
   "id": "fe5ef373",
   "metadata": {},
   "outputs": [],
   "source": [
    "class ModelEvaluation:\n",
    "    def __init__(self, config: ModelEvaluationConfig):\n",
    "        self.config = config\n",
    "\n",
    "    def evaluation_metrics(self,actual,pred):\n",
    "        Accuracy = accuracy_score(actual,pred)\n",
    "        F1_Score = f1_score(actual,pred)\n",
    "        Precision_Score = precision_score(actual,pred)\n",
    "        Recall_Score = recall_score(actual,pred)\n",
    "        AUC_Score = roc_auc_score(actual, pred)\n",
    "        \n",
    "        return Accuracy, F1_Score, Precision_Score, Recall_Score, AUC_Score\n",
    "\n",
    "    def log_into_mlflow(self):\n",
    "\n",
    "        # Load models\n",
    "        SVM = joblib.load(Path(self.config.model_paths[0]))\n",
    "        KNN = joblib.load(Path(self.config.model_paths[1]))\n",
    "        AdaBoost = joblib.load(Path(self.config.model_paths[2]))\n",
    "\n",
    "        models = {\"Support_Vector_Machine\":SVM,\"Knearest_Neighbour\":KNN, \"AdaBoost\":AdaBoost}\n",
    "\n",
    "        # Load test data\n",
    "        test_data = pd.read_csv(self.config.test_data_path)\n",
    "        X_test = test_data.drop([self.config.target_column], axis=1)\n",
    "        Y_test = test_data[self.config.target_column]\n",
    "\n",
    "        for index, model_name in enumerate(models.keys()):\n",
    "            mlflow.set_registry_uri(self.config.mlflow_url)\n",
    "            tracking_url_type_store = urlparse(mlflow.get_tracking_uri()).scheme\n",
    "\n",
    "            with mlflow.start_run():\n",
    "\n",
    "                predicted_qualities = models[model_name].predict(X_test)\n",
    "        \n",
    "                # Evaluation metrcis\n",
    "                (Accuracy, F1_Score, Precision_Score, Recall_Score, AUC_Score) = self.evaluation_metrics(Y_test, predicted_qualities)\n",
    "                \n",
    "                # Saving metrics as local\n",
    "                scores = {\"Accuracy\":Accuracy, \"F1_Score\":F1_Score, \"Precision_Score\":Precision_Score, \"Recall_Score\":Recall_Score, \"AUC_Score\":AUC_Score}\n",
    "                save_json(path=Path(self.config.metrics_file_paths[index]), data=scores)\n",
    "\n",
    "                \n",
    "                mlflow.log_params(self.config.all_params[model_name])\n",
    "\n",
    "                mlflow.log_metric(\"Accuracy\",Accuracy)\n",
    "                mlflow.log_metric(\"F1_Score\",F1_Score)\n",
    "                mlflow.log_metric(\"Precision_Score\",Precision_Score)\n",
    "                mlflow.log_metric(\"Recall_Score\",Recall_Score)\n",
    "                mlflow.log_metric(\"AUC_Score\",AUC_Score)\n",
    "\n",
    "\n",
    "                # Model registry does not work with file store\n",
    "                if tracking_url_type_store != \"file\":\n",
    "\n",
    "                    # Register the model\n",
    "                    # There are other ways to use the Model Registry, which depends on the use case,\n",
    "                    # please refer to the doc for more information:\n",
    "                    # https://mlflow.org/docs/latest/model-registry.html#api-workflow\n",
    "                    mlflow.sklearn.log_model(models[model_name], \"model\", registered_model_name=model_name)\n",
    "                else:\n",
    "                    mlflow.sklearn.log_model(models[model_name], \"model\")\n",
    "                \n",
    "                time.sleep(7)\n",
    "\n"
   ]
  },
  {
   "cell_type": "code",
   "execution_count": 18,
   "id": "79932a98",
   "metadata": {},
   "outputs": [
    {
     "name": "stdout",
     "output_type": "stream",
     "text": [
      "Config file path: config\\config.yaml\n",
      "[2025-07-22 18:26:38,037 : INFO: yaml file: config\\config.yaml loaded successfully]\n",
      "[2025-07-22 18:26:38,039 : INFO: yaml file: params.yaml loaded successfully]\n",
      "[2025-07-22 18:26:38,045 : INFO: yaml file: schema.yaml loaded successfully]\n",
      "[2025-07-22 18:26:38,046 : INFO: created directory at: artifacts/model_evaluation]\n",
      "[2025-07-22 18:26:38,479 : INFO: json file saved at: artifacts\\model_evaluation\\Support_Vector_Machine.json]\n",
      "🏃 View run charming-turtle-392 at: https://dagshub.com/Rutvik46/Heart-Failure-Prediction-with-Machine-Learning-MLflow.mlflow/#/experiments/0/runs/f2aae1b1397047ca8b363953f86e743d\n",
      "🧪 View experiment at: https://dagshub.com/Rutvik46/Heart-Failure-Prediction-with-Machine-Learning-MLflow.mlflow/#/experiments/0\n",
      "[2025-07-22 18:26:45,960 : INFO: json file saved at: artifacts\\model_evaluation\\Knearest_Neighbour.json]\n",
      "🏃 View run blushing-lynx-429 at: https://dagshub.com/Rutvik46/Heart-Failure-Prediction-with-Machine-Learning-MLflow.mlflow/#/experiments/0/runs/90251ab8245a4d59acdc011faa2229b5\n",
      "🧪 View experiment at: https://dagshub.com/Rutvik46/Heart-Failure-Prediction-with-Machine-Learning-MLflow.mlflow/#/experiments/0\n",
      "[2025-07-22 18:26:53,658 : INFO: json file saved at: artifacts\\model_evaluation\\AdaBoost.json]\n",
      "🏃 View run gaudy-pig-951 at: https://dagshub.com/Rutvik46/Heart-Failure-Prediction-with-Machine-Learning-MLflow.mlflow/#/experiments/0/runs/e552354ac1fe4eb8b8bacb31bada6855\n",
      "🧪 View experiment at: https://dagshub.com/Rutvik46/Heart-Failure-Prediction-with-Machine-Learning-MLflow.mlflow/#/experiments/0\n"
     ]
    }
   ],
   "source": [
    "try:\n",
    "    config = ConfigurationManager()\n",
    "    model_evaluation_config = config.get_model_evaluation_config()\n",
    "    model_evaluation = ModelEvaluation(config=model_evaluation_config)\n",
    "    model_evaluation.log_into_mlflow()\n",
    "\n",
    "except Exception as e:\n",
    "    logger.exception(e)\n",
    "    raise e"
   ]
  }
 ],
 "metadata": {
  "kernelspec": {
   "display_name": "mlProject",
   "language": "python",
   "name": "python3"
  },
  "language_info": {
   "codemirror_mode": {
    "name": "ipython",
    "version": 3
   },
   "file_extension": ".py",
   "mimetype": "text/x-python",
   "name": "python",
   "nbconvert_exporter": "python",
   "pygments_lexer": "ipython3",
   "version": "3.11.13"
  }
 },
 "nbformat": 4,
 "nbformat_minor": 5
}
