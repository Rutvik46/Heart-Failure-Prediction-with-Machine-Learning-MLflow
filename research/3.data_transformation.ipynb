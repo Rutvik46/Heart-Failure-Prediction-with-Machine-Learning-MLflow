{
 "cells": [
  {
   "cell_type": "code",
   "execution_count": 1,
   "id": "db4259dd",
   "metadata": {},
   "outputs": [],
   "source": [
    "import os"
   ]
  },
  {
   "cell_type": "code",
   "execution_count": 2,
   "id": "1be8c922",
   "metadata": {},
   "outputs": [
    {
     "data": {
      "text/plain": [
       "'a:\\\\mlflow\\\\Heart-Failure-Prediction-with-Machine-Learning-MLflow\\\\research'"
      ]
     },
     "execution_count": 2,
     "metadata": {},
     "output_type": "execute_result"
    }
   ],
   "source": [
    "%pwd"
   ]
  },
  {
   "cell_type": "code",
   "execution_count": 3,
   "id": "02e43521",
   "metadata": {},
   "outputs": [],
   "source": [
    "os.chdir('../')"
   ]
  },
  {
   "cell_type": "code",
   "execution_count": 4,
   "id": "23550f32",
   "metadata": {},
   "outputs": [
    {
     "data": {
      "text/plain": [
       "'a:\\\\mlflow\\\\Heart-Failure-Prediction-with-Machine-Learning-MLflow'"
      ]
     },
     "execution_count": 4,
     "metadata": {},
     "output_type": "execute_result"
    }
   ],
   "source": [
    "%pwd"
   ]
  },
  {
   "cell_type": "code",
   "execution_count": 5,
   "id": "395a9d9e",
   "metadata": {},
   "outputs": [],
   "source": [
    "from dataclasses import dataclass\n",
    "from pathlib import Path"
   ]
  },
  {
   "cell_type": "code",
   "execution_count": 6,
   "id": "ba8a545c",
   "metadata": {},
   "outputs": [],
   "source": [
    "@dataclass(frozen=True)\n",
    "class DataTransformationConfig:\n",
    "    root_dir: Path\n",
    "    data_path: Path"
   ]
  },
  {
   "cell_type": "code",
   "execution_count": 7,
   "id": "5a28aa2c",
   "metadata": {},
   "outputs": [],
   "source": [
    "from mlProject.constants import *\n",
    "from mlProject.utils.common import read_yaml, create_directories"
   ]
  },
  {
   "cell_type": "code",
   "execution_count": null,
   "id": "53c6ae93",
   "metadata": {},
   "outputs": [],
   "source": [
    "class ConfigrationManger:\n",
    "    def __init__(\n",
    "        self,\n",
    "        config_file_path = CONFIG_FILE_PATH,\n",
    "        params_file_path = PARAMS_FILE_PATH,    \n",
    "        schema_file_path = SCHEMA_FILE_PATH,\n",
    "    ):\n",
    "        self.config = read_yaml(config_file_path)\n",
    "        self.params = read_yaml(params_file_path)\n",
    "        self.schema = read_yaml(schema_file_path)\n",
    "\n",
    "        create_directories([self.config.artifacts_root_dir])\n",
    "        \n",
    "    def get_data_transformation_config(self) -> DataTransformationConfig:\n",
    "        config = self.config.data_transformation\n",
    "        create_directories([config.root_dir])\n",
    "        \n",
    "        data_transformation_config = DataTransformationConfig(\n",
    "            root_dir=Path(config.root_dir),\n",
    "            data_path=Path(config.data_path) \n",
    "        )\n",
    "        \n",
    "        return data_transformation_config\n",
    "        \n",
    "\n"
   ]
  },
  {
   "cell_type": "code",
   "execution_count": 9,
   "id": "18b5388c",
   "metadata": {},
   "outputs": [],
   "source": [
    "import pandas as pd\n",
    "from sklearn.model_selection import train_test_split\n",
    "from mlProject import logger"
   ]
  },
  {
   "cell_type": "code",
   "execution_count": null,
   "id": "f9544b1a",
   "metadata": {},
   "outputs": [],
   "source": [
    "class DataTransformation:\n",
    "    def __init__(self, config: DataTransformationConfig):\n",
    "        self.config = config\n",
    "        \n",
    "\n",
    "    # All data transformation techniques such as normalization, encoding, Scalar, PCA, etc. can be implemented here.\n",
    "    \n",
    "    def data_preprocessing(self) -> pd.DataFrame:\n",
    "\n",
    "        logger.info(\"Starting data preprocessing...\")\n",
    "\n",
    "        # Load the data\n",
    "        data = pd.read_csv(self.config.data_path)\n",
    "        data.dropna(inplace=True)\n",
    "        data.drop_duplicates(inplace=True)\n",
    "\n",
    "        # Map categorical columns to numeric\n",
    "        data['Sex'] = data['Sex'].map({'M': 1, 'F': 0})\n",
    "        data['ExerciseAngina'] = data['ExerciseAngina'].map({'Y': 1, 'N': 0})\n",
    "\n",
    "\n",
    "        data['ChestPainType'] = data['ChestPainType'].map({\n",
    "            'ATA': 0,\n",
    "            'NAP': 1,\n",
    "            'ASY': 2,\n",
    "            'TA': 3\n",
    "        })\n",
    "\n",
    "        data['RestingECG'] = data['RestingECG'].map({\n",
    "            'Normal': 0,\n",
    "            'ST': 1,\n",
    "            'LVH': 2\n",
    "        })\n",
    "\n",
    "        data['ST_Slope'] = data['ST_Slope'].map({\n",
    "            'Up': 0,\n",
    "            'Flat': 1,\n",
    "            'Down': 2\n",
    "        })\n",
    "\n",
    "        return data\n",
    "\n",
    "    def train_test_split(self, data: pd.DataFrame) -> None:\n",
    "        \n",
    "        # Splitting the data into train and test sets\n",
    "        # 75% of the data will be used for training and 25% for testing\n",
    "        train, test = train_test_split(data, test_size=0.25, random_state=42)\n",
    "\n",
    "        train.to_csv(os.path.join(self.config.root_dir ,'train.csv'), index=False)\n",
    "        test.to_csv(os.path.join(self.config.root_dir ,'test.csv'), index=False)\n",
    "\n",
    "        logger.info(f\"Train and test data saved at {self.config.root_dir}\")\n",
    "        logger.info(f\"Train data shape: {train.shape}\")\n",
    "        logger.info(f\"Test data shape: {test.shape}\")   \n",
    "\n",
    "        \n"
   ]
  },
  {
   "cell_type": "code",
   "execution_count": 11,
   "id": "b42b2db7",
   "metadata": {},
   "outputs": [
    {
     "name": "stdout",
     "output_type": "stream",
     "text": [
      "[2025-07-21 20:12:16,846 : INFO: yaml file: config\\config.yaml loaded successfully]\n",
      "[2025-07-21 20:12:16,849 : INFO: yaml file: params.yaml loaded successfully]\n",
      "[2025-07-21 20:12:16,854 : INFO: yaml file: schema.yaml loaded successfully]\n",
      "[2025-07-21 20:12:16,857 : INFO: created directory at: artifacts]\n",
      "[2025-07-21 20:12:16,857 : INFO: created directory at: artifacts/data_transformation]\n",
      "[2025-07-21 20:12:16,857 : INFO: Starting data preprocessing...]\n",
      "[2025-07-21 20:12:16,935 : INFO: Train and test data saved at artifacts\\data_transformation]\n",
      "[2025-07-21 20:12:16,935 : INFO: Train data shape: (688, 12)]\n",
      "[2025-07-21 20:12:16,935 : INFO: Test data shape: (230, 12)]\n"
     ]
    }
   ],
   "source": [
    "try:\n",
    "    config_manager = ConfigrationManger()\n",
    "    data_transformation_config = config_manager.get_data_transformation_config()    \n",
    "    data_transformation = DataTransformation(config=data_transformation_config)\n",
    "    processed_data = data_transformation.data_preprocessing()\n",
    "    data_transformation.train_test_split(processed_data)\n",
    "except Exception as e:\n",
    "    logger.exception(f\"An error occurred during data transformation: {e}\")\n",
    "    raise e"
   ]
  }
 ],
 "metadata": {
  "kernelspec": {
   "display_name": "mlProject",
   "language": "python",
   "name": "python3"
  },
  "language_info": {
   "codemirror_mode": {
    "name": "ipython",
    "version": 3
   },
   "file_extension": ".py",
   "mimetype": "text/x-python",
   "name": "python",
   "nbconvert_exporter": "python",
   "pygments_lexer": "ipython3",
   "version": "3.11.13"
  }
 },
 "nbformat": 4,
 "nbformat_minor": 5
}
