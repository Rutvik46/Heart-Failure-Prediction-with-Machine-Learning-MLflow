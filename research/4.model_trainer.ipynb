{
 "cells": [
  {
   "cell_type": "code",
   "execution_count": 1,
   "id": "75fcd2be",
   "metadata": {},
   "outputs": [],
   "source": [
    "import os"
   ]
  },
  {
   "cell_type": "code",
   "execution_count": 2,
   "id": "1547d2ad",
   "metadata": {},
   "outputs": [
    {
     "data": {
      "text/plain": [
       "'a:\\\\mlflow\\\\Heart-Failure-Prediction-with-Machine-Learning-MLflow\\\\research'"
      ]
     },
     "execution_count": 2,
     "metadata": {},
     "output_type": "execute_result"
    }
   ],
   "source": [
    "%pwd"
   ]
  },
  {
   "cell_type": "code",
   "execution_count": 3,
   "id": "8859417b",
   "metadata": {},
   "outputs": [],
   "source": [
    "os.chdir(\"../\")"
   ]
  },
  {
   "cell_type": "code",
   "execution_count": 4,
   "id": "4a4d1e3d",
   "metadata": {},
   "outputs": [
    {
     "data": {
      "text/plain": [
       "'a:\\\\mlflow\\\\Heart-Failure-Prediction-with-Machine-Learning-MLflow'"
      ]
     },
     "execution_count": 4,
     "metadata": {},
     "output_type": "execute_result"
    }
   ],
   "source": [
    "%pwd"
   ]
  },
  {
   "cell_type": "code",
   "execution_count": 5,
   "id": "f4788eee",
   "metadata": {},
   "outputs": [],
   "source": [
    "from dataclasses import dataclass\n",
    "from pathlib import Path\n",
    "\n",
    "@dataclass(frozen=True)\n",
    "class ModelTrainerConfig:\n",
    "    root_dir:str\n",
    "    train_data_path:Path\n",
    "    test_data_path:Path\n",
    "    model_names:str\n",
    "    model_param:str\n",
    "    target_column:str"
   ]
  },
  {
   "cell_type": "code",
   "execution_count": 6,
   "id": "c5aa04db",
   "metadata": {},
   "outputs": [],
   "source": [
    "from mlProject.constants import *\n",
    "from mlProject.utils.common import read_yaml, create_directories"
   ]
  },
  {
   "cell_type": "code",
   "execution_count": 7,
   "id": "329126e3",
   "metadata": {},
   "outputs": [
    {
     "name": "stdout",
     "output_type": "stream",
     "text": [
      "[2025-07-22 17:55:00,142 : INFO: yaml file: params.yaml loaded successfully]\n",
      "{'Models': {'Support_Vector_Machine': {'gamma': 0.01, 'C': 15, 'kernel': 'rbf'}, 'Knearest_Neighbour': {'n_neighbours': 20}, 'AdaBoost': {'n_estimators': 100}}}\n"
     ]
    }
   ],
   "source": [
    "config = read_yaml(PARAMS_FILE_PATH)\n",
    "print(config)"
   ]
  },
  {
   "cell_type": "code",
   "execution_count": 12,
   "id": "cc3bebc0",
   "metadata": {},
   "outputs": [],
   "source": [
    "class ConfigurationManager:\n",
    "    def __init__(self, config_filepath=CONFIG_FILE_PATH, params_filepath=PARAMS_FILE_PATH,schema_filepath=SCHEMA_FILE_PATH):\n",
    "        \n",
    "        self.config = read_yaml(config_filepath)\n",
    "        self.params = read_yaml(params_filepath)\n",
    "        self.schema = read_yaml(schema_filepath)\n",
    "\n",
    "        create_directories([self.config.model_trainer.root_dir])\n",
    "\n",
    "    def get_model_trainer_config(self) -> ModelTrainerConfig:\n",
    "        config = self.config.model_trainer\n",
    "        param = self.params.Models\n",
    "        schema = self.schema.TARGET_COLUMN\n",
    "        model_trainer_config = ModelTrainerConfig(\n",
    "            root_dir=config.root_dir,\n",
    "            train_data_path=Path(config.train_data_path),\n",
    "            test_data_path=Path(config.test_data_path),\n",
    "            model_names=config.model_names,\n",
    "            model_param=param,\n",
    "            target_column=schema.name\n",
    "        )\n",
    "\n",
    "        return model_trainer_config"
   ]
  },
  {
   "cell_type": "code",
   "execution_count": 13,
   "id": "08f43ee2",
   "metadata": {},
   "outputs": [],
   "source": [
    "from sklearn.svm import SVC\n",
    "from sklearn.neighbors import KNeighborsClassifier\n",
    "from sklearn.ensemble  import AdaBoostClassifier \n",
    "import pandas as pd\n",
    "import os\n",
    "import joblib\n",
    "from mlProject import logger"
   ]
  },
  {
   "cell_type": "code",
   "execution_count": null,
   "id": "44e01006",
   "metadata": {},
   "outputs": [],
   "source": [
    "class ModelTrainer:\n",
    "    def __init__(self, config: ModelTrainerConfig):\n",
    "        self.config = config\n",
    "\n",
    "    def train(self):\n",
    "\n",
    "        train_data =  pd.read_csv(self.config.train_data_path)\n",
    "        test_data = pd.read_csv(self.config.test_data_path)\n",
    "\n",
    "        X_train = train_data.drop([self.config.target_column], axis=1)\n",
    "        y_train = train_data[self.config.target_column]\n",
    "\n",
    "        X_test = test_data.drop([self.config.target_column], axis=1)\n",
    "        y_test = test_data[self.config.target_column]\n",
    "\n",
    "        # SVM\n",
    "        SVM = SVC(\n",
    "            gamma=self.config.model_param.Support_Vector_Machine.gamma,\n",
    "            C=self.config.model_param.Support_Vector_Machine.C,\n",
    "            kernel=self.config.model_param.Support_Vector_Machine.kernel,\n",
    "            random_state=42 \n",
    "        )\n",
    "        SVM.fit(X_train, y_train)\n",
    "        joblib.dump(SVM, os.path.join(self.config.root_dir, self.config.model_names.model1))\n",
    "\n",
    "        # KNN\n",
    "        KNN=KNeighborsClassifier(n_neighbors=self.config.model_param.K_Nearest_Neighbours.n_neighbours)\n",
    "        KNN.fit(X_train, y_train)\n",
    "        joblib.dump(KNN, os.path.join(self.config.root_dir, self.config.model_names.model2))\n",
    "\n",
    "        # AdaBoost\n",
    "        AdaBoost= AdaBoostClassifier(n_estimators=self.config.model_param.AdaBoost.n_estimators,\n",
    "                                   random_state=42\n",
    "        )\n",
    "        AdaBoost.fit(X_train, y_train)\n",
    "        joblib.dump(AdaBoost, os.path.join(self.config.root_dir, self.config.model_names.model3))\n",
    "        "
   ]
  },
  {
   "cell_type": "code",
   "execution_count": 15,
   "id": "9598eca2",
   "metadata": {},
   "outputs": [
    {
     "name": "stdout",
     "output_type": "stream",
     "text": [
      "[2025-07-22 18:18:49,366 : INFO: yaml file: config\\config.yaml loaded successfully]\n",
      "[2025-07-22 18:18:49,370 : INFO: yaml file: params.yaml loaded successfully]\n",
      "[2025-07-22 18:18:49,373 : INFO: yaml file: schema.yaml loaded successfully]\n",
      "[2025-07-22 18:18:49,374 : INFO: created directory at: artifacts/model_trainer]\n"
     ]
    }
   ],
   "source": [
    "try:\n",
    "    configuration_manager = ConfigurationManager()\n",
    "    model_trainer_config = configuration_manager.get_model_trainer_config()\n",
    "    model_trainer = ModelTrainer(config=model_trainer_config)\n",
    "    model_trainer.train()\n",
    "except Exception as e:\n",
    "    raise e"
   ]
  }
 ],
 "metadata": {
  "kernelspec": {
   "display_name": "mlProject",
   "language": "python",
   "name": "python3"
  },
  "language_info": {
   "codemirror_mode": {
    "name": "ipython",
    "version": 3
   },
   "file_extension": ".py",
   "mimetype": "text/x-python",
   "name": "python",
   "nbconvert_exporter": "python",
   "pygments_lexer": "ipython3",
   "version": "3.11.13"
  }
 },
 "nbformat": 4,
 "nbformat_minor": 5
}
